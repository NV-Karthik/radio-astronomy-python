{
 "cells": [
  {
   "cell_type": "markdown",
   "id": "a5334a60",
   "metadata": {},
   "source": [
    "# Plotting Jet Afterglow Light Curve"
   ]
  },
  {
   "cell_type": "markdown",
   "id": "2cfcd32b",
   "metadata": {},
   "source": [
    "Dataset reference for this analysis:\n",
    "\n",
    "See Makhatini+2020 (https://arxiv.org/abs/2006.02382) \n",
    "and references therein. \n",
    "\n",
    "\n",
    "T=989 ATCA data point is from Troja+2020 (2020MNRAS.498.5643T). \n",
    "\n",
    "T\\~1250 VLA and Chandra points from Balasubramanian+2021 (arXiv:2103.04821).\n",
    "\n",
    "T\\~1200-1300 d ATCA data points from Troja+2021 (arXiv:2104.13378). "
   ]
  },
  {
   "cell_type": "code",
   "execution_count": 7,
   "id": "feec0b5e",
   "metadata": {},
   "outputs": [],
   "source": [
    "import numpy as np\n",
    "import matplotlib.pyplot as plt\n",
    "from astropy.io import ascii"
   ]
  },
  {
   "cell_type": "code",
   "execution_count": 2,
   "id": "938e73c7",
   "metadata": {},
   "outputs": [
    {
     "data": {
      "text/html": [
       "<div><i>Table length=215</i>\n",
       "<table id=\"table22950691464400\" class=\"table-striped table-bordered table-condensed\">\n",
       "<thead><tr><th>DateUT</th><th>T</th><th>Telescope</th><th>Freq</th><th>FluxD</th><th>FluxDErr</th></tr></thead>\n",
       "<thead><tr><th>str24</th><th>float64</th><th>str10</th><th>float64</th><th>str7</th><th>float64</th></tr></thead>\n",
       "<tr><td>2017-Aug-18.10</td><td>0.57</td><td>VLA</td><td>9700000000.0</td><td>&lt;144</td><td>--</td></tr>\n",
       "<tr><td>2017-Aug-18.1</td><td>0.6</td><td>Swift</td><td>2.41e+17</td><td>&lt;7.8e-3</td><td>--</td></tr>\n",
       "<tr><td>2017-Aug-18.21</td><td>0.68</td><td>ATCA</td><td>8500000000.0</td><td>&lt;120</td><td>--</td></tr>\n",
       "<tr><td>2017-Aug-18.21</td><td>0.68</td><td>ATCA</td><td>10500000000.0</td><td>&lt;150</td><td>--</td></tr>\n",
       "<tr><td>2017-Aug-18.2</td><td>0.7</td><td>NuSTAR</td><td>1.2e+18</td><td>&lt;7.3e-4</td><td>--</td></tr>\n",
       "<tr><td>2017-Aug-18.46</td><td>0.93</td><td>uGMRT</td><td>610000000.0</td><td>&lt;195</td><td>--</td></tr>\n",
       "<tr><td>...</td><td>...</td><td>...</td><td>...</td><td>...</td><td>...</td></tr>\n",
       "<tr><td>2021-Feb-20</td><td>1283.0</td><td>ATCA</td><td>2100000000.0</td><td>&lt;75</td><td>--</td></tr>\n",
       "<tr><td>2021-Apr-06</td><td>1328.0</td><td>ATCA</td><td>2100000000.0</td><td>&lt;54</td><td>--</td></tr>\n",
       "<tr><td>2021-Apr-08</td><td>1330.0</td><td>ATCA</td><td>5500000000.0</td><td>&lt;44</td><td>--</td></tr>\n",
       "<tr><td>2021-Apr-08</td><td>1330.0</td><td>ATCA</td><td>9000000000.0</td><td>&lt;31</td><td>--</td></tr>\n",
       "<tr><td>2020-Dec-09--2021-Jan-27</td><td>1231.0</td><td>Chandra</td><td>2.41e+17</td><td>1.70e-4</td><td>4.7e-05</td></tr>\n",
       "<tr><td>2020-Sep-19--2021-Feb-08</td><td>1228.0</td><td>VLA</td><td>3000000000.0</td><td>2.86e0</td><td>0.99</td></tr>\n",
       "<tr><td>2020-Feb-10</td><td>1273.0</td><td>VLA</td><td>15000000000.0</td><td>&lt;5.7</td><td>--</td></tr>\n",
       "</table></div>"
      ],
      "text/plain": [
       "<Table length=215>\n",
       "         DateUT             T    Telescope      Freq      FluxD  FluxDErr\n",
       "         str24           float64   str10      float64      str7  float64 \n",
       "------------------------ ------- --------- ------------- ------- --------\n",
       "          2017-Aug-18.10    0.57       VLA  9700000000.0    <144       --\n",
       "           2017-Aug-18.1     0.6     Swift      2.41e+17 <7.8e-3       --\n",
       "          2017-Aug-18.21    0.68      ATCA  8500000000.0    <120       --\n",
       "          2017-Aug-18.21    0.68      ATCA 10500000000.0    <150       --\n",
       "           2017-Aug-18.2     0.7    NuSTAR       1.2e+18 <7.3e-4       --\n",
       "          2017-Aug-18.46    0.93     uGMRT   610000000.0    <195       --\n",
       "                     ...     ...       ...           ...     ...      ...\n",
       "             2021-Feb-20  1283.0      ATCA  2100000000.0     <75       --\n",
       "             2021-Apr-06  1328.0      ATCA  2100000000.0     <54       --\n",
       "             2021-Apr-08  1330.0      ATCA  5500000000.0     <44       --\n",
       "             2021-Apr-08  1330.0      ATCA  9000000000.0     <31       --\n",
       "2020-Dec-09--2021-Jan-27  1231.0   Chandra      2.41e+17 1.70e-4  4.7e-05\n",
       "2020-Sep-19--2021-Feb-08  1228.0       VLA  3000000000.0  2.86e0     0.99\n",
       "             2020-Feb-10  1273.0       VLA 15000000000.0    <5.7       --"
      ]
     },
     "execution_count": 2,
     "metadata": {},
     "output_type": "execute_result"
    }
   ],
   "source": [
    "ag_data = ascii.read('gw170817_afterglow_data_full.txt')\n",
    "ag_data"
   ]
  },
  {
   "cell_type": "code",
   "execution_count": 3,
   "id": "b8bd45de",
   "metadata": {},
   "outputs": [
    {
     "name": "stdout",
     "output_type": "stream",
     "text": [
      "Telescope \n",
      "----------\n",
      "      ALMA\n",
      "      ATCA\n",
      "   Chandra\n",
      " HST/F140W\n",
      " HST/F160W\n",
      " HST/F606W\n",
      " HST/F814W\n",
      "       ...\n",
      "     Swift\n",
      "       VLA\n",
      " VLITE/VLA\n",
      "XMM-Newton\n",
      "   eMERLIN\n",
      "     gVLBA\n",
      "     uGMRT\n",
      "Length = 17 rows\n"
     ]
    }
   ],
   "source": [
    "ag_data_by_telescope = ag_data.group_by('Telescope')\n",
    "print(ag_data_by_telescope.groups.keys)"
   ]
  },
  {
   "cell_type": "code",
   "execution_count": 4,
   "id": "883bb9de",
   "metadata": {},
   "outputs": [
    {
     "name": "stdout",
     "output_type": "stream",
     "text": [
      "         DateUT            T    Telescope      Freq     FluxD  FluxDErr\n",
      "------------------------ ------ --------- ------------- ------ --------\n",
      "          2017-Aug-18.10   0.57       VLA  9700000000.0   <144       --\n",
      "          2017-Aug-18.97   1.44       VLA 10000000000.0  <13.8       --\n",
      "          2017-Aug-19.95   2.42       VLA 15000000000.0  <17.7       --\n",
      "          2017-Aug-19.95   2.43       VLA  6200000000.0    <20       --\n",
      "          2017-Aug-19.95   2.43       VLA  9700000000.0    <17       --\n",
      "          2017-Aug-19.95   2.43       VLA 15000000000.0    <22       --\n",
      "          2017-Aug-19.97   2.44       VLA 10000000000.0  <17.1       --\n",
      "                     ...    ...       ...           ...    ...      ...\n",
      "              2018-Jun-7  294.0       VLA  3000000000.0 3.12e1      3.6\n",
      "         2018-Dec-18--20  489.0       VLA  3000000000.0 1.48e1      2.9\n",
      "     2019-Jan-21--Mar-29  545.0       VLA  6000000000.0    5.9      1.9\n",
      "         2019-Aug-11--30  734.0       VLA  6000000000.0   <8.4       --\n",
      "         2019-Sep-21--27  767.0       VLA  3000000000.0 4.90e0      1.8\n",
      "2020-Sep-19--2021-Feb-08 1228.0       VLA  3000000000.0 2.86e0     0.99\n",
      "             2020-Feb-10 1273.0       VLA 15000000000.0   <5.7       --\n",
      "Length = 76 rows\n"
     ]
    }
   ],
   "source": [
    "# Separating VLA data from the rest\n",
    "groups01 = ag_data_by_telescope.groups[11]\n",
    "\n",
    "# other way\n",
    "mask = ag_data_by_telescope.groups.keys['Telescope'] == 'VLA'\n",
    "vla_data = ag_data_by_telescope.groups[mask]\n",
    "\n",
    "print(vla_data)"
   ]
  },
  {
   "cell_type": "code",
   "execution_count": 5,
   "id": "3a331e96",
   "metadata": {},
   "outputs": [
    {
     "data": {
      "text/html": [
       "<div><i>Table length=25</i>\n",
       "<table id=\"table22949460898192\" class=\"table-striped table-bordered table-condensed\">\n",
       "<thead><tr><th>DateUT</th><th>T</th><th>Telescope</th><th>Freq</th><th>FluxD</th><th>FluxDErr</th></tr></thead>\n",
       "<thead><tr><th>str24</th><th>float64</th><th>str10</th><th>float64</th><th>str7</th><th>float64</th></tr></thead>\n",
       "<tr><td>2017-Aug-20.87</td><td>3.34</td><td>VLA</td><td>3000000000.0</td><td>&lt;32</td><td>--</td></tr>\n",
       "<tr><td>2017-Aug-22.88</td><td>3.35</td><td>VLA</td><td>3000000000.0</td><td>&lt;19</td><td>--</td></tr>\n",
       "<tr><td>2017-Sep-2.9</td><td>16.4</td><td>VLA</td><td>3000000000.0</td><td>1.87e1</td><td>6.3</td></tr>\n",
       "<tr><td>2017-Sep-3.9</td><td>17.4</td><td>VLA</td><td>3000000000.0</td><td>1.51e1</td><td>3.9</td></tr>\n",
       "<tr><td>2017-Sep-4.9</td><td>18.3</td><td>VLA</td><td>3000000000.0</td><td>1.45e1</td><td>3.7</td></tr>\n",
       "<tr><td>2017-Sep-8.9</td><td>22.4</td><td>VLA</td><td>3000000000.0</td><td>2.25e1</td><td>3.4</td></tr>\n",
       "<tr><td>...</td><td>...</td><td>...</td><td>...</td><td>...</td><td>...</td></tr>\n",
       "<tr><td>2018-May-12</td><td>267.0</td><td>VLA</td><td>3000000000.0</td><td>4.03e1</td><td>2.7</td></tr>\n",
       "<tr><td>2018-May-17</td><td>273.0</td><td>VLA</td><td>3000000000.0</td><td>3.48e1</td><td>4.9</td></tr>\n",
       "<tr><td>2018-Jun-2</td><td>289.0</td><td>VLA</td><td>3000000000.0</td><td>3.63e1</td><td>3.9</td></tr>\n",
       "<tr><td>2018-Jun-7</td><td>294.0</td><td>VLA</td><td>3000000000.0</td><td>3.12e1</td><td>3.6</td></tr>\n",
       "<tr><td>2018-Dec-18--20</td><td>489.0</td><td>VLA</td><td>3000000000.0</td><td>1.48e1</td><td>2.9</td></tr>\n",
       "<tr><td>2019-Sep-21--27</td><td>767.0</td><td>VLA</td><td>3000000000.0</td><td>4.90e0</td><td>1.8</td></tr>\n",
       "<tr><td>2020-Sep-19--2021-Feb-08</td><td>1228.0</td><td>VLA</td><td>3000000000.0</td><td>2.86e0</td><td>0.99</td></tr>\n",
       "</table></div>"
      ],
      "text/plain": [
       "<Table length=25>\n",
       "         DateUT             T    Telescope     Freq     FluxD  FluxDErr\n",
       "         str24           float64   str10     float64     str7  float64 \n",
       "------------------------ ------- --------- ------------ ------ --------\n",
       "          2017-Aug-20.87    3.34       VLA 3000000000.0    <32       --\n",
       "          2017-Aug-22.88    3.35       VLA 3000000000.0    <19       --\n",
       "            2017-Sep-2.9    16.4       VLA 3000000000.0 1.87e1      6.3\n",
       "            2017-Sep-3.9    17.4       VLA 3000000000.0 1.51e1      3.9\n",
       "            2017-Sep-4.9    18.3       VLA 3000000000.0 1.45e1      3.7\n",
       "            2017-Sep-8.9    22.4       VLA 3000000000.0 2.25e1      3.4\n",
       "                     ...     ...       ...          ...    ...      ...\n",
       "             2018-May-12   267.0       VLA 3000000000.0 4.03e1      2.7\n",
       "             2018-May-17   273.0       VLA 3000000000.0 3.48e1      4.9\n",
       "              2018-Jun-2   289.0       VLA 3000000000.0 3.63e1      3.9\n",
       "              2018-Jun-7   294.0       VLA 3000000000.0 3.12e1      3.6\n",
       "         2018-Dec-18--20   489.0       VLA 3000000000.0 1.48e1      2.9\n",
       "         2019-Sep-21--27   767.0       VLA 3000000000.0 4.90e0      1.8\n",
       "2020-Sep-19--2021-Feb-08  1228.0       VLA 3000000000.0 2.86e0     0.99"
      ]
     },
     "execution_count": 5,
     "metadata": {},
     "output_type": "execute_result"
    }
   ],
   "source": [
    "# Separating 3GHz data from the rest\n",
    "freq_group = vla_data.group_by('Freq')\n",
    "freq_group_mask = freq_group.groups.keys['Freq'] == 3e+9\n",
    "\n",
    "vla_data = freq_group.groups[freq_group_mask]\n",
    "vla_data"
   ]
  },
  {
   "cell_type": "code",
   "execution_count": 8,
   "id": "818a0a84",
   "metadata": {},
   "outputs": [
    {
     "name": "stdout",
     "output_type": "stream",
     "text": [
      "(23,) (23,) (23,) float64 float64 float64\n"
     ]
    },
    {
     "data": {
      "image/png": "[encoded data removed]",
      "text/plain": [
       "<Figure size 640x480 with 1 Axes>"
      ]
     },
     "metadata": {},
     "output_type": "display_data"
    }
   ],
   "source": [
    "vla_t = np.array(vla_data['T'])\n",
    "vla_errors = np.array(vla_data['FluxDErr'])\n",
    "\n",
    "# Cleaning up flux density\n",
    "# vla_fv_str = np.array(vla_data['FluxD']).tolist()\n",
    "# vla_fv_str = ','.join(vla_fv_str)\n",
    "# vla_fv_str = vla_fv_str.replace('<', '')\n",
    "\n",
    "# vla_fv = np.fromstring(vla_fv_str, dtype=float, sep=',')\n",
    "\n",
    "vla_fv = np.array(vla_data['FluxD'])\n",
    "vla_fv = vla_fv[2:]\n",
    "vla_fv = vla_fv.astype(float)\n",
    "\n",
    "vla_t = vla_t[2:]\n",
    "vla_errors = vla_errors[2:]\n",
    "\n",
    "print(vla_t.shape, vla_fv.shape, vla_errors.shape, vla_t.dtype, vla_fv.dtype, vla_errors.dtype)\n",
    "\n",
    "plt.errorbar(vla_t, vla_fv, vla_errors, ecolor='red', linestyle='', marker='.', c='black')\n",
    "plt.xlabel('Time, Days since merger')\n",
    "plt.ylabel('Flux Density, microJansky')\n",
    "plt.xscale('log')\n",
    "plt.yscale('log')\n",
    "plt.savefig('vla_data.jpg', bbox_inches='tight')"
   ]
  },
  {
   "cell_type": "code",
   "execution_count": 9,
   "id": "a32b3328",
   "metadata": {},
   "outputs": [
    {
     "data": {
      "text/html": [
       "<div><i>Table length=11</i>\n",
       "<table id=\"table22949382492544\" class=\"table-striped table-bordered table-condensed\">\n",
       "<thead><tr><th>DateUT</th><th>T</th><th>Telescope</th><th>Freq</th><th>FluxD</th><th>FluxDErr</th></tr></thead>\n",
       "<thead><tr><th>str24</th><th>float64</th><th>str10</th><th>float64</th><th>str7</th><th>float64</th></tr></thead>\n",
       "<tr><td>2017-Aug-19.9</td><td>2.4</td><td>Chandra</td><td>2.41e+17</td><td>&lt;2.3e-4</td><td>--</td></tr>\n",
       "<tr><td>2017-Aug-26.7</td><td>9.2</td><td>Chandra</td><td>2.41e+17</td><td>4.48e-4</td><td>0.000131</td></tr>\n",
       "<tr><td>2017-Sep-01.4</td><td>14.9</td><td>Chandra</td><td>2.41e+17</td><td>5.11e-4</td><td>9.6e-05</td></tr>\n",
       "<tr><td>2017-Dec-04</td><td>109.0</td><td>Chandra</td><td>2.41e+17</td><td>2.11e-3</td><td>0.000185</td></tr>\n",
       "<tr><td>2018-Jan-23</td><td>158.0</td><td>Chandra</td><td>2.41e+17</td><td>2.19e-3</td><td>0.000183</td></tr>\n",
       "<tr><td>2018-May-04</td><td>259.0</td><td>Chandra</td><td>2.41e+17</td><td>1.15e-3</td><td>0.00014</td></tr>\n",
       "<tr><td>2018-Aug-10</td><td>357.0</td><td>Chandra</td><td>2.41e+17</td><td>7.12e-4</td><td>0.000136</td></tr>\n",
       "<tr><td>2019-Mar-22</td><td>581.0</td><td>Chandra</td><td>2.41e+17</td><td>2.63e-4</td><td>7.05e-05</td></tr>\n",
       "<tr><td>2019-Aug-29</td><td>741.0</td><td>Chandra</td><td>2.41e+17</td><td>2.19e-4</td><td>7.31e-05</td></tr>\n",
       "<tr><td>2020-Mar-13</td><td>938.0</td><td>Chandra</td><td>2.41e+17</td><td>1.30e-4</td><td>5.23e-05</td></tr>\n",
       "<tr><td>2020-Dec-09--2021-Jan-27</td><td>1231.0</td><td>Chandra</td><td>2.41e+17</td><td>1.70e-4</td><td>4.7e-05</td></tr>\n",
       "</table></div>"
      ],
      "text/plain": [
       "<Table length=11>\n",
       "         DateUT             T    Telescope   Freq    FluxD  FluxDErr\n",
       "         str24           float64   str10   float64    str7  float64 \n",
       "------------------------ ------- --------- -------- ------- --------\n",
       "           2017-Aug-19.9     2.4   Chandra 2.41e+17 <2.3e-4       --\n",
       "           2017-Aug-26.7     9.2   Chandra 2.41e+17 4.48e-4 0.000131\n",
       "           2017-Sep-01.4    14.9   Chandra 2.41e+17 5.11e-4  9.6e-05\n",
       "             2017-Dec-04   109.0   Chandra 2.41e+17 2.11e-3 0.000185\n",
       "             2018-Jan-23   158.0   Chandra 2.41e+17 2.19e-3 0.000183\n",
       "             2018-May-04   259.0   Chandra 2.41e+17 1.15e-3  0.00014\n",
       "             2018-Aug-10   357.0   Chandra 2.41e+17 7.12e-4 0.000136\n",
       "             2019-Mar-22   581.0   Chandra 2.41e+17 2.63e-4 7.05e-05\n",
       "             2019-Aug-29   741.0   Chandra 2.41e+17 2.19e-4 7.31e-05\n",
       "             2020-Mar-13   938.0   Chandra 2.41e+17 1.30e-4 5.23e-05\n",
       "2020-Dec-09--2021-Jan-27  1231.0   Chandra 2.41e+17 1.70e-4  4.7e-05"
      ]
     },
     "execution_count": 9,
     "metadata": {},
     "output_type": "execute_result"
    }
   ],
   "source": [
    "# getting chandra data\n",
    "mask_c = ag_data_by_telescope.groups.keys['Telescope'] == 'Chandra'\n",
    "chandra_data = ag_data_by_telescope.groups[mask_c]\n",
    "\n",
    "# Separating 2.41e+17 data from the rest\n",
    "freq_group2 = chandra_data.group_by('Freq')\n",
    "freq_group_mask2 = freq_group2.groups.keys['Freq'] == 2.41e+17\n",
    "\n",
    "chandra_data = freq_group2.groups[freq_group_mask2]\n",
    "\n",
    "chandra_data"
   ]
  },
  {
   "cell_type": "code",
   "execution_count": 10,
   "id": "870a9085",
   "metadata": {},
   "outputs": [
    {
     "name": "stdout",
     "output_type": "stream",
     "text": [
      "(10,) (10,) float64 float64\n"
     ]
    },
    {
     "data": {
      "image/png": "[encoded data removed]",
      "text/plain": [
       "<Figure size 640x480 with 1 Axes>"
      ]
     },
     "metadata": {},
     "output_type": "display_data"
    }
   ],
   "source": [
    "chandra_t = np.array(chandra_data['T'])\n",
    "chandra_errors = np.array(chandra_data['FluxDErr'])\n",
    "\n",
    "# # Cleaning up flux density - one way\n",
    "# chandra_fv_str = np.array(chandra_data['FluxD']).tolist()\n",
    "# chandra_fv_str = ','.join(chandra_fv_str)\n",
    "# chandra_fv_str = chandra_fv_str.replace('<', '')\n",
    "\n",
    "# chandra_fv = np.fromstring(chandra_fv_str, dtype=float, sep=',')\n",
    "\n",
    "chandra_fv = np.array(chandra_data['FluxD'])\n",
    "chandra_fv = chandra_fv[1:]\n",
    "chandra_fv = chandra_fv.astype('float')\n",
    "\n",
    "chandra_t = chandra_t[1:]\n",
    "chandra_errors = chandra_errors[1:]\n",
    "\n",
    "print(chandra_t.shape, chandra_fv.shape, chandra_t.dtype, chandra_fv.dtype)\n",
    "\n",
    "plt.errorbar(chandra_t, chandra_fv, chandra_errors, ecolor='red', linestyle='', marker='.', c='black')\n",
    "plt.xlabel('Time, Days since merger')\n",
    "plt.ylabel('Flux Density, microJansky')\n",
    "plt.xscale('log')\n",
    "plt.yscale('log')\n",
    "plt.savefig('chandra_data.jpg', bbox_inches=\"tight\")"
   ]
  },
  {
   "cell_type": "code",
   "execution_count": 11,
   "id": "c7a57962",
   "metadata": {},
   "outputs": [],
   "source": [
    "factor = (2.41e+17 / 3e+9)**0.584\n",
    "\n",
    "fv_chandra3Ghz = chandra_fv * factor"
   ]
  },
  {
   "cell_type": "code",
   "execution_count": 12,
   "id": "8f3179c1",
   "metadata": {},
   "outputs": [
    {
     "data": {
      "image/png": "[encoded data removed]",
      "text/plain": [
       "<Figure size 1200x600 with 1 Axes>"
      ]
     },
     "metadata": {},
     "output_type": "display_data"
    }
   ],
   "source": [
    "fig2_3 = plt.figure(figsize=(12,6))\n",
    "plt.scatter(x=vla_t, y=vla_fv, c='red', s=15)\n",
    "plt.scatter(x=chandra_t, y=fv_chandra3Ghz, c='blue', s=15)\n",
    "# plt.errorbar(vla_t, vla_fv, vla_errors, ecolor='red', linestyle='', marker='.', c='green')\n",
    "# plt.errorbar(chandra_t, fv_chandra3Ghz, chandra_errors, ecolor='blue', linestyle='', marker='.', c='orange')\n",
    "plt.legend(['VLA 3GHz', 'Chandra 3GHz'], prop={'size': 16})\n",
    "plt.xlabel('Time since merger, Days')\n",
    "plt.ylabel('Flux Density, microJansky')\n",
    "plt.yscale('log')\n",
    "plt.savefig('vla_chandra_data.jpg')"
   ]
  },
  {
   "cell_type": "code",
   "execution_count": null,
   "id": "c5b85d57",
   "metadata": {},
   "outputs": [],
   "source": []
  }
 ],
 "metadata": {
  "kernelspec": {
   "display_name": "Python 3 (ipykernel)",
   "language": "python",
   "name": "python3"
  },
  "language_info": {
   "codemirror_mode": {
    "name": "ipython",
    "version": 3
   },
   "file_extension": ".py",
   "mimetype": "text/x-python",
   "name": "python",
   "nbconvert_exporter": "python",
   "pygments_lexer": "ipython3",
   "version": "3.10.9"
  }
 },
 "nbformat": 4,
 "nbformat_minor": 5
}
